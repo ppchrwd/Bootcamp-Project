{
  "nbformat": 4,
  "nbformat_minor": 0,
  "metadata": {
    "colab": {
      "provenance": [],
      "authorship_tag": "ABX9TyOCxQgAewrMvWjc2aMdcRex",
      "include_colab_link": true
    },
    "kernelspec": {
      "name": "python3",
      "display_name": "Python 3"
    },
    "language_info": {
      "name": "python"
    }
  },
  "cells": [
    {
      "cell_type": "markdown",
      "metadata": {
        "id": "view-in-github",
        "colab_type": "text"
      },
      "source": [
        "<a href=\"https://colab.research.google.com/github/ppchrwd/Bootcamp-Project/blob/main/ATM%20class.ipynb\" target=\"_parent\"><img src=\"https://colab.research.google.com/assets/colab-badge.svg\" alt=\"Open In Colab\"/></a>"
      ]
    },
    {
      "cell_type": "code",
      "execution_count": 5,
      "metadata": {
        "colab": {
          "base_uri": "https://localhost:8080/"
        },
        "id": "G9rBb8H6xPc9",
        "outputId": "518daaba-fdb3-4b87-ce96-613249aa171a"
      },
      "outputs": [
        {
          "output_type": "stream",
          "name": "stdout",
          "text": [
            "Account: Johnny, Balance: 10000\n",
            "New Balance: 60000\n",
            "Deposit succesfully\n",
            "New Balance: 110000\n",
            "Deposit succesfully\n",
            "Your account name has been changed\n",
            "Account name: Sprite\n",
            "Account: Sprite, Balance: 110000\n",
            "What bank do you want to transfer?: ggg\n",
            "Bank number: 8758\n",
            "Amount: 5000\n",
            "New Balance: 105000\n",
            "transfer succesfully\n"
          ]
        }
      ],
      "source": [
        "# ATM\n",
        "\n",
        "class ATM:\n",
        "\t\t# double underscore => dunder\n",
        "    def __init__(self, name, balance):\n",
        "        self.name = name\n",
        "        self.balance = balance\n",
        "\n",
        "    def check_balance(self):\n",
        "        message = f\"Account: {self.name}, Balance: {self.balance}\"\n",
        "        print(message)\n",
        "\n",
        "    def deposit(self, money):\n",
        "        self.balance += money\n",
        "        print(f\"New Balance: {self.balance}\")\n",
        "        print(\"Deposit succesfully\")\n",
        "    \n",
        "    def withdraw(self, money):\n",
        "        self.balance -= money\n",
        "        print(f\"New Balance: {self.balance}\")\n",
        "        print(\"Withdraw succesfully\")\n",
        "\n",
        "    def transfer(self, money):\n",
        "        self.balance -= money\n",
        "        bank = (input(\"What bank do you want to transfer?: \"))\n",
        "        bank_number = int(input(\"Bank number: \"))\n",
        "        amount = int(input(f\"Amount: \"))\n",
        "        print(f\"New Balance: {self.balance}\")\n",
        "        print(\"transfer succesfully\")\n",
        "\n",
        "\n",
        "    def change_name(self, new_acc_name):\n",
        "        self.name = new_acc_name\n",
        "        print(\"Your account name has been changed\")\n",
        "        print(f\"Account name: {self.name}\")\n",
        "\n",
        "scb = ATM(\"Johnny\", 10000)\n",
        "\n",
        "scb.check_balance()\n",
        "\n",
        "scb.deposit(50000)\n",
        "\n",
        "scb.deposit(50000)\n",
        "\n",
        "scb.change_name(\"Sprite\")\n",
        "\n",
        "\n",
        "scb.check_balance()\n",
        "\n",
        "scb.transfer(5000)\n"
      ]
    }
  ]
}